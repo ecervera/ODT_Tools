{
 "cells": [
  {
   "cell_type": "code",
   "execution_count": null,
   "metadata": {
    "collapsed": true
   },
   "outputs": [],
   "source": [
    "from odt_parse import OdtData, meta_label, stat_label"
   ]
  },
  {
   "cell_type": "code",
   "execution_count": null,
   "metadata": {
    "collapsed": true
   },
   "outputs": [],
   "source": [
    "import csv, glob, zipfile"
   ]
  },
  {
   "cell_type": "code",
   "execution_count": null,
   "metadata": {
    "collapsed": true
   },
   "outputs": [],
   "source": [
    "HOME_FOLDER = '../'\n",
    "#SUBMISSION_FOLDER = HOME_FOLDER + 'PS1002-2-20172018-Document libro predefinidos.odt, grups de dijous-3219356'\n",
    "SUBMISSION_FOLDER = HOME_FOLDER + 'PS1002-2-20172018-Document libro modificado.odt, grups de dijous-3219490'\n",
    "user_folder = glob.glob(SUBMISSION_FOLDER + '/*')"
   ]
  },
  {
   "cell_type": "code",
   "execution_count": null,
   "metadata": {
    "collapsed": false
   },
   "outputs": [],
   "source": [
    "with open(SUBMISSION_FOLDER + '.csv', 'w', newline='') as csvfile:\n",
    "    writer = csv.writer(csvfile, delimiter=',',\n",
    "                        quotechar='|', quoting=csv.QUOTE_MINIMAL)\n",
    "    headers = ['user_name', 'user_id', 'type', 'filename', 'ext', 'load']\n",
    "    headers += meta_label\n",
    "    headers += stat_label\n",
    "    headers += ['H', 'HE', 'P', 'PE']\n",
    "    writer.writerow( headers )\n",
    "    counter = 0\n",
    "    for ufo in user_folder:\n",
    "        user_files = glob.glob(ufo + '/*')\n",
    "        for ufi in user_files:\n",
    "            tokens = ufi.split('/')\n",
    "            filename = tokens[-1]\n",
    "            user_data = tokens[-2]\n",
    "            user_name, user_id, _, submission_type, _ = user_data.split('_')\n",
    "            fns = filename.split('.')\n",
    "            if len(fns) > 1:\n",
    "                extension = fns[-1]\n",
    "            else:\n",
    "                extension = ''\n",
    "            row = [user_name, user_id, submission_type, filename, extension]\n",
    "            if extension == 'odt':\n",
    "                doc = OdtData( ufi )\n",
    "                if doc.err:\n",
    "                    row += ['ERR']                    \n",
    "                else:\n",
    "                    row += ['OK']\n",
    "                    row += [doc.meta[l] for l in meta_label]\n",
    "                    row += [doc.stat[l] for l in stat_label]\n",
    "                    row += [len(doc.H), doc.emptyHeadings, len(doc.P), doc.emptyPars]\n",
    "            writer.writerow( row )\n",
    "            counter += 1\n",
    "    print('%d rows written.' % counter)"
   ]
  },
  {
   "cell_type": "code",
   "execution_count": null,
   "metadata": {
    "collapsed": true
   },
   "outputs": [],
   "source": []
  }
 ],
 "metadata": {
  "kernelspec": {
   "display_name": "Python 3",
   "language": "python",
   "name": "python3"
  },
  "language_info": {
   "codemirror_mode": {
    "name": "ipython",
    "version": 3
   },
   "file_extension": ".py",
   "mimetype": "text/x-python",
   "name": "python",
   "nbconvert_exporter": "python",
   "pygments_lexer": "ipython3",
   "version": "3.5.2"
  }
 },
 "nbformat": 4,
 "nbformat_minor": 2
}
