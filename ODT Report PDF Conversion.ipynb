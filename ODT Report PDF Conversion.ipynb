{
 "cells": [
  {
   "cell_type": "code",
   "execution_count": 1,
   "metadata": {
    "collapsed": true
   },
   "outputs": [],
   "source": [
    "from odt_parse import OdtData\n",
    "from odt_diff import find_style_by_name"
   ]
  },
  {
   "cell_type": "code",
   "execution_count": 2,
   "metadata": {
    "collapsed": true
   },
   "outputs": [],
   "source": [
    "import csv, glob, zipfile"
   ]
  },
  {
   "cell_type": "code",
   "execution_count": 3,
   "metadata": {
    "collapsed": true
   },
   "outputs": [],
   "source": [
    "HOME_FOLDER = '/Volumes/GoogleDrive/La meva unitat/Docencia/Curs1819/PS1002/'\n",
    "SUBMISSION_FOLDER = HOME_FOLDER + 'PDF2ODT'\n",
    "user_folder = glob.glob(SUBMISSION_FOLDER + '/*')"
   ]
  },
  {
   "cell_type": "code",
   "execution_count": 4,
   "metadata": {
    "collapsed": false
   },
   "outputs": [
    {
     "name": "stdout",
     "output_type": "stream",
     "text": [
      "0 ficheros procesados.\n"
     ]
    }
   ],
   "source": [
    "with open(SUBMISSION_FOLDER + '.txt', 'w', encoding='utf-8') as f:\n",
    "    counter = 0\n",
    "    for ufo in user_folder:\n",
    "        user_files = glob.glob(ufo + '/*')\n",
    "        for ufi in user_files:\n",
    "            tokens = ufi.split('/')\n",
    "            filename = tokens[-1]\n",
    "            user_data = tokens[-2]\n",
    "            user_name, user_id, _, submission_type, _ = user_data.split('_')\n",
    "            fns = filename.split('.')\n",
    "            if len(fns) > 1:\n",
    "                extension = fns[-1]\n",
    "            else:\n",
    "                extension = ''\n",
    "            row = [user_name, user_id, submission_type, filename, extension]\n",
    "            #if filename != ref_name:\n",
    "            #    f.write('\\nNombre de fichero: %s\\n\\n' % filename)\n",
    "            if extension == 'odt':\n",
    "                f.write(user_name + '\\n' + '-'*len(user_name) + '\\n')\n",
    "                doc = OdtData( ufi )\n",
    "                if doc.err:\n",
    "                    f.write('Error de lectura de fichero\\n')                   \n",
    "                else:\n",
    "                    f.write(doc.meta['IC'] + '\\n')\n",
    "                    f.write(str(find_style_by_name(ref.style['paragraph'], 'uberschrift1')) + '\\n')\n",
    "                    f.write(str(find_style_by_name(ref.style['paragraph'], 'verzeichnis1')) + '\\n')                       \n",
    "                f.write('\\n' + '#'*40 + '\\n\\n')\n",
    "                counter += 1\n",
    "            #else:\n",
    "            #    f.write('Extensión de fichero incorrecta\\n')\n",
    "    print('%d ficheros procesados.' % counter)"
   ]
  },
  {
   "cell_type": "code",
   "execution_count": 5,
   "metadata": {
    "collapsed": false
   },
   "outputs": [
    {
     "data": {
      "text/plain": [
       "['/Volumes/GoogleDrive/La meva unitat/Docencia/Curs1819/PS1002/PDF2ODT/libro_08_con_imagenes.odt',\n",
       " '/Volumes/GoogleDrive/La meva unitat/Docencia/Curs1819/PS1002/PDF2ODT/libro_final_azul (1).odt']"
      ]
     },
     "execution_count": 5,
     "metadata": {},
     "output_type": "execute_result"
    }
   ],
   "source": [
    "user_folder"
   ]
  },
  {
   "cell_type": "code",
   "execution_count": null,
   "metadata": {
    "collapsed": true
   },
   "outputs": [],
   "source": []
  }
 ],
 "metadata": {
  "kernelspec": {
   "display_name": "Python 3",
   "language": "python",
   "name": "python3"
  },
  "language_info": {
   "codemirror_mode": {
    "name": "ipython",
    "version": 3
   },
   "file_extension": ".py",
   "mimetype": "text/x-python",
   "name": "python",
   "nbconvert_exporter": "python",
   "pygments_lexer": "ipython3",
   "version": "3.5.2"
  }
 },
 "nbformat": 4,
 "nbformat_minor": 2
}
