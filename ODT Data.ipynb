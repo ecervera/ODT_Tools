{
 "cells": [
  {
   "cell_type": "code",
   "execution_count": 1,
   "metadata": {},
   "outputs": [],
   "source": [
    "from odt_parse import OdtData"
   ]
  },
  {
   "cell_type": "code",
   "execution_count": 2,
   "metadata": {},
   "outputs": [
    {
     "name": "stdout",
     "output_type": "stream",
     "text": [
      "Document \"libro_predefinidos.odt\" has 12 headings and 44 paragraphs.\n"
     ]
    }
   ],
   "source": [
    "ref = OdtData('libro_predefinidos.odt')\n",
    "#ref = OdtData('libro_modificado.odt')\n",
    "\n",
    "print('Document \"%s\" has %d headings and %d paragraphs.' % (ref.filename, len(ref.H), len(ref.P)))"
   ]
  },
  {
   "cell_type": "code",
   "execution_count": 3,
   "metadata": {},
   "outputs": [
    {
     "data": {
      "text/plain": [
       "{'CreationDate': None, 'DS': None, 'EC': '17', 'ED': '00:13:04', 'IC': None}"
      ]
     },
     "execution_count": 3,
     "metadata": {},
     "output_type": "execute_result"
    }
   ],
   "source": [
    "ref.meta"
   ]
  },
  {
   "cell_type": "code",
   "execution_count": 4,
   "metadata": {},
   "outputs": [
    {
     "data": {
      "text/plain": [
       "{'Chars': '18039', 'NWSp': '15268', 'Pages': '5', 'Pars': '56'}"
      ]
     },
     "execution_count": 4,
     "metadata": {},
     "output_type": "execute_result"
    }
   ],
   "source": [
    "ref.stat"
   ]
  },
  {
   "cell_type": "code",
   "execution_count": 5,
   "metadata": {},
   "outputs": [
    {
     "data": {
      "text/plain": [
       "[{'style': 'Heading_1', 'text': 'Capítulo 1. Introducción al software libre'},\n",
       " {'style': 'Heading_2', 'text': '1.1. El concepto de libertad en el software'},\n",
       " {'style': 'Heading_3', 'text': '1.1.1. Definición'},\n",
       " {'style': 'Heading_3', 'text': '1.1.2. Términos relacionados'},\n",
       " {'style': 'Heading_2', 'text': '1.2. Motivaciones'},\n",
       " {'style': 'Heading_2',\n",
       "  'text': '1.3. Consecuencias de la libertad del software'},\n",
       " {'style': 'Heading_3', 'text': '1.3.1. Para el usuario final'},\n",
       " {'style': 'Heading_3', 'text': '1.3.2. Para la administración pública'},\n",
       " {'style': 'Heading_3', 'text': '1.3.3. Para el desarrollador'},\n",
       " {'style': 'Heading_3', 'text': '1.3.4. Para el integrador'},\n",
       " {'style': 'Heading_3',\n",
       "  'text': '1.3.5. Para el que proporciona mantenimiento y servicios'},\n",
       " {'style': 'Heading_2', 'text': '1.4. Resumen'}]"
      ]
     },
     "execution_count": 5,
     "metadata": {},
     "output_type": "execute_result"
    }
   ],
   "source": [
    "ref.H"
   ]
  },
  {
   "cell_type": "code",
   "execution_count": 6,
   "metadata": {},
   "outputs": [
    {
     "data": {
      "text/plain": [
       "[{'style': 'Quotations',\n",
       "  'text': 'If you have an apple and I have an apple and we exchange apples then you and I will still each have one apple. But if you have an idea and I have an idea and we exchange these ideas, then each of us will have two ideas.'},\n",
       " {'style': 'Quotations',\n",
       "  'text': 'Si tú tienes una manzana, yo tengo una manzana y las intercambiamos, seguiremos teniendo una manzana cada uno. Pero si tú tienes una idea, yo tengo una idea, y las intercambiamos, cada uno de nosotros tendrá dos ideas.'},\n",
       " {'style': 'Quotations', 'text': 'Bernard Shaw (atribuido)'},\n",
       " {'style': 'Text_body',\n",
       "  'text': '¿Qué es el software libre? ¿Qué es y qué implicaciones tiene la licencia de un programa libre? ¿Cómo se está desarrollando el software libre? ¿Cómo se financian los proyectos de software libre, qué modelos de negocio se están experimentando relacionados con ellos? ¿Qué motiva a los desarrolladores, especialmente a los que son voluntarios, a involucrarse en proyectos de software libre? ¿Cómo son estos desarrolladores? ¿Cómo se coordinan en sus proyectos, y cómo es el software que producen? En resumen, ¿cuál es la panorámica general del software libre? Este es el tipo de preguntas que trataremos de responder en este texto. Porque aunque el software libre está cada vez más en los medios de comunicación, en las conversaciones de los profesionales de la informática, e incluso empieza a estar en boca de los ciudadanos en general, aún es un desconocido para muchos. Y los que lo conocen muchas veces no saben más que de algunos de sus aspectos, desconociendo completamente otros.'},\n",
       " {'style': 'Text_body',\n",
       "  'text': 'Para empezar, en este capítulo vamos a presentar los aspectos específicos del software libre, centrándonos fundamentalmente en explicar sus bases para los que se aproximen al tema por primera vez, y en motivar su importancia. Entre estas bases nos detendremos en la definición del término (para saber de qué vamos a hablar) y en las consecuencias principales del uso (y la mera existencia) del software libre.'},\n",
       " {'style': 'Text_body',\n",
       "  'text': 'Desde el principio de los años 70 nos hemos acostumbrado a que quien comercializa un programa pueda imponer (e imponga) las condiciones bajo las que puede usarse. Puede, por ejemplo, prohibir que se lo preste a un tercero. A pesar de que el software es el elemento tecnológico más flexible y adaptable que tenemos, puede imponerse (y es común imponer) la imposibilidad de adaptarlo a unas necesidades concretas, o corregir sus errores, sin el permiso explícito del productor, que normalmente se reserva en exclusiva estas posibilidades. Pero esta es sólo una de las posibilidades que ofrece la legislación actual: el software libre, por el contrario, otorga las libertades que el software privativo niega.'},\n",
       " {'style': 'Text',\n",
       "  'text': 'Nota: En este texto utilizaremos el término software privativo para referirnos a cualquier programa que no puede considerarse software libre, de acuerdo con la definición que se ofrece más adelante.'},\n",
       " {'style': 'Text_body',\n",
       "  'text': 'Así pues el término software libre (o programas libres), tal como fue concebido por Richard Stallman en su definición [fsf:definition], hace referencia a las libertades que puede ejercer quien lo recibe. En concreto, hace referencia a cuatro libertades.'},\n",
       " {'style': 'P2',\n",
       "  'text': 'Libertad para ejecutar el programa en cualquier sitio, con cualquier propósito y para siempre.'},\n",
       " {'style': 'P2',\n",
       "  'text': 'Libertad para estudiarlo y adaptarlo a nuestras necesidades. Esto exige el acceso al código fuente.'},\n",
       " {'style': 'P2',\n",
       "  'text': 'Libertad de redistribución, de modo que se nos permita colaborar con vecinos y amigos.'},\n",
       " {'style': 'P2',\n",
       "  'text': 'Libertad para mejorar el programa y publicar las mejoras. También exige el código fuente.'},\n",
       " {'style': 'Text_body',\n",
       "  'text': 'El mecanismo que se utiliza para garantizarlas, de acuerdo con la legalidad vigente, es la distribución mediante una cierta licencia, como veremos más adelante (Capítulo 3). En ella el autor plasma su permiso para que el receptor del programa pueda ejercer esas libertades, y también restricciones que pueda querer aplicar (como dar crédito a los autores originales en caso de redistribución). Para que la licencia sea considerada como libre, estas restricciones no pueden ir en contra de las libertades mencionadas.'},\n",
       " {'style': 'Text',\n",
       "  'text': 'La ambigüedad de “free”: El término original en inglés para programas libres es free software. Sin embargo, el término inglés free además de libre significa gratis, lo que genera gran confusión. Por ello a menudo en inglés se toman prestadas palabras españolas y se habla de libre software, en contraposición a gratis software, al igual que nosotros tomamos prestada la palabra software.'},\n",
       " {'style': 'Text_body',\n",
       "  'text': 'Así pues, las definiciones de software libre no hacen ninguna referencia a que pueda conseguirse gratuitamente: el software libre y el software gratuito son cosas bien distintas. Sin embargo, dicho esto, hay que explicar también que debido a la tercera libertad, cualquiera puede redistribuir un programa sin pedir contraprestación económica ni permiso, lo que hace prácticamente imposible obtener grandes ganancias simplemente por la distribución de software libre: cualquiera que lo haya obtenido puede a su vez redistribuirlo a precio más bajo, o incluso gratis.'},\n",
       " {'style': 'Text',\n",
       "  'text': 'Nota: A pesar de que cualquiera puede comercializar un programa dado a cualquier precio, y eso hace que teóricamente el precio de redistribución tienda hacia el coste marginal de copia, hay modelos de negocio basados precisamente en vender software, porque son muchas las circunstancias donde el consumidor está dispuesto a pagar si recibe ciertas contraprestaciones, como por ejemplo una cierta garantía, aunque sea subjetiva, sobre el software que recibe, o un valor añadido en forma de selección, actualización y organización de un conjunto de programas.'},\n",
       " {'style': 'Text_body',\n",
       "  'text': 'Desde un punto de vista práctico, hay varios textos que definen más precisamente qué condiciones tiene que cumplir una licencia para ser considerada como de software libre. Entre ellas, destacan por su importancia histórica la definición de software libre de la Free Software Foundation [fsf:definition], las directrices de Debian para decidir si un programa es libre [debian:freesftwareguidelines] y la definición de la Open Source Initiative del término “open source” [osi:definition], muy similar a las anteriores.'},\n",
       " {'style': 'Text',\n",
       "  'text': 'Nota: Por ejemplo, las directrices de Debian entran en el detalle de permitir que el autor exija que los fuentes distribuidos no sean modificados directamente, sino que los originales se acompañen de parches separados y que los programas binarios se generen con nombres distintos al original. Además exigen que las licencias no contaminen otros programas distribuidos en el mismo medio.'},\n",
       " {'style': 'Text_body',\n",
       "  'text': 'Equivalente a software libre es el término Open Source Software (programas de fuente abierto), promovido por Eric Raymond y la Open Source Initiative. Filosóficamente el término es muy distinto, ya que hace énfasis en la disponibilidad de código fuente, no en la libertad, pero su definición es prácticamente la misma que la de Debian[osd:open-source-definition:98]. Este nombre es más políticamente aséptico y recalca un aspecto técnico que puede dar lugar a ventajas técnicas, como mejores modelos de desarrollo y negocio, mayor seguridad, etc. Fuertemente criticado por Richard Stallman[fsf:freeforfreedom] y la Free Software Foundation[fsf], ha encontrado mucho más eco en la literatura comercial y en las estrategias de las empresas que de una manera u otra apoyan el modelo.'},\n",
       " {'style': 'Text_body',\n",
       "  'text': 'Otros términos relacionados de alguna manera con el software libre son.'},\n",
       " {'style': 'List_1',\n",
       "  'text': 'Freeware Programas gratuitos. Normalmente se distribuyen sólo en binario, y se pueden obtener sin coste. A veces se obtiene también permiso de redistribución, pero otras no, pudiendo obtenerse entonces sólo del sitio “oficial” mantenido a ese efecto. Es habitual que estos programas se usen para promocionar otros programas (típicamente con funcionalidad más completa) o servicios. Ejemplos de este tipo de programas son Skype, Google Earth o Microsoft Messenger.'},\n",
       " {'style': 'List_1',\n",
       "  'text': 'Shareware No es siquiera software gratis, sino un método de distribución, ya que los programas, generalmente sin fuentes, se pueden copiar libremente, pero no usar continuadamente sin pagarlos. La exigencia de pago puede estar incentivada por funcionalidad limitada o mensajes molestos, o una simple apelación a la moral del usuario, además de que las estipulaciones legales de la licencia podrían utilizarse en contra del infractor.'},\n",
       " {'style': 'List_1',\n",
       "  'text': 'Charityware, Careware Generalmente shareware, pero cuyo pago se exige para una organización caritativa patrocinada. En muchos casos, el pago no se exige, pero se solicita una contribución voluntaria. Algún software libre, como vim solicita contribuciones voluntarias de este tipo [molenaar:charityware].'},\n",
       " {'style': 'List_1',\n",
       "  'text': 'Dominio público El autor renuncia absolutamente a todos sus derechos, en favor del común, lo cual tiene que estar declarado explícitamente en el programa, ya que si no se dice nada, el programa es propietario y no se puede hacer nada con él. En este caso, y si además se proporcionan los fuentes, el programa es libre.'},\n",
       " {'style': 'List_1',\n",
       "  'text': 'Copyleft Un caso particular de software libre cuya licencia obliga a que las modificaciones que se distribuyan sean también libres.'},\n",
       " {'style': 'List_1',\n",
       "  'text': 'Propietario, Cerrado, No libre Términos usados para denominar al software que no es libre ni de fuente abierta.'},\n",
       " {'style': 'Text_body',\n",
       "  'text': 'Como hemos visto hay dos grandes familias de motivaciones para el desarrollo de software libre, que dan lugar así mismo a los dos nombres con que se lo conoce.'},\n",
       " {'style': 'P1',\n",
       "  'text': 'La motivación ética, abanderada por la Free Software Foundation[fsf], heredera de la cultura hacker, y partidaria del apelativo libre, que argumenta que el software es conocimiento que debe poder difundirse sin trabas, y que su ocultación es una actitud antisocial y que la posibilidad de modificar programas es una forma de libertad de expresión. Puede profundizarse en este aspecto en los ensayos de Stallman[stallman:essays] o en el análisis de Pekka Himanen[himanen:hackerethic].'},\n",
       " {'style': 'P1',\n",
       "  'text': 'La motivación pragmática, abanderada por la Open Source Initiative[osi] y partidaria del apelativo fuente abierta, que argumenta ventajas técnicas y económicas, que repasaremos en la sección siguiente.'},\n",
       " {'style': 'Text_body',\n",
       "  'text': 'Aparte de estas dos grandes motivaciones, la gente que trabaja en software libre puede hacerlo por muchas otras razones, que van desde la diversión[torvalds:fun] a la mera retribución económica, posiblemente debida a modelos de negocio sustentables. En el Capítulo 4 se profundiza en estas motivaciones a partir de análisis objetivos.'},\n",
       " {'style': 'Text_body',\n",
       "  'text': 'El software libre trae consigo numerosas ventajas y pocas desventajas, muchas de ellas exageradas (o falseadas) por la competencia propietaria. De ellas la que más fundamento tiene es la económica, ya que como vimos no es posible obtener mucho dinero de la distribución y ésta la puede y suele hacer alguien distinto al autor. Es por ello que se necesitan modelos de negocio y otros mecanismos de financiación, que se desarrollan en el Capítulo 5. Otras, como la falta de soporte o la calidad escasa, están relacionadas con la financiación, pero además en muchos casos son falsas, ya que incluso software sin ningún tipo de financiación suele ofrecer muy buen soporte a través de foros de usuarios y desarrolladores, y muchas veces tiene gran calidad.'},\n",
       " {'style': 'Text_body',\n",
       "  'text': 'Teniendo presentes los problemas económicos, hemos de observar que el modelo de costes del software libre es muy distinto del propietario, ya que gran parte de él se ha desarrollado fuera de la economía formal monetaria, muchas veces con mecanismos de trueque: “yo te doy un programa que te interesa y tú lo adaptas a tu arquitectura y le haces mejoras que a ti te interesan”. En el Capítulo 7 se explican mecanismos de ingeniería software apropiados para aprovechar estos recursos humanos no pagados y con características propias, mientras que en el Capítulo 8 se estudian las herramientas usadas para hacer efectiva esta colaboración. Pero además gran parte de los costes disminuyen por el hecho de ser libre, ya que los programas nuevos no tienen por qué empezar desde cero, sino que pueden reutilizar software ya hecho. La distribución tiene también un coste mucho menor, ya que se hace vía Internet y con propaganda gratuita en foros públicos destinados a ello.'},\n",
       " {'style': 'Text_body',\n",
       "  'text': 'Otra consecuencia de las libertades es la calidad que se deriva de la colaboración voluntaria de gente que contribuye o que descubre y reporta errores en entornos y situaciones inimaginables por el desarrollador original. Además, si un programa no ofrece la calidad suficiente, la competencia puede tomarlo y mejorarlo, partiendo de lo que hay. Así la colaboración y la competencia, dos poderosos mecanismos, se combinan para conseguir mejor calidad.'},\n",
       " {'style': 'Text_body',\n",
       "  'text': 'Examinemos ahora las consecuencias beneficiosas según el destinatario.'},\n",
       " {'style': 'Text_body',\n",
       "  'text': 'El usuario final, ya sea individual o empresa, puede encontrar verdadera competencia en un mercado con tendencia al monopolio. En particular, no depende necesariamente del soporte del fabricante del software, ya que puede haber múltiples empresas, quizá pequeñas, que disponiendo del fuente y de conocimientos, puedan hacer negocio manteniendo determinados programas libres.'},\n",
       " {'style': 'Text_body',\n",
       "  'text': 'Ya no se depende tanto de la fiabilidad del fabricante para intentar deducir la calidad de un producto, sino que la guía nos la dará la aceptación de la comunidad y la disponibilidad de los fuentes. Nos olvidamos además de cajas negras, en las que hay que confiar porque sí, y de las estrategias de los fabricantes, que pueden decidir unilateralmente dejar de mantener un producto.'},\n",
       " {'style': 'Text_body',\n",
       "  'text': 'La evaluación de productos antes de adoptarlos ahora es mucho más sencilla, ya que basta instalar los productos alternativos en nuestro entorno real y probar, mientras que para software propietario hay que fiarse de informes externos o negociar pruebas con los proveedores, lo cual no es siempre posible.'},\n",
       " {'style': 'Text_body',\n",
       "  'text': 'Dada la libertad de modificar el programa para uso propio, el usuario puede personalizarlo o adaptarlo a sus necesidades, corrigiendo errores si los tuviera. El proceso de corrección de errores descubiertos por los usuarios en software propietario suele ser extremadamente penoso, si no imposible, ya que si conseguimos que se repare, muchas veces se hará en la versión siguiente, que podría tardar años en salir, y a veces además será necesario comprarla de nuevo. En software libre, sin embargo, lo podemos hacer nosotros, si estamos cualificados, o contratar el servicio fuera. También podemos, directamente o contratando servicios, integrar el programa con otro, o auditar su calidad (por ejemplo la seguridad). El control pasa, en gran medida, del proveedor al usuario.'},\n",
       " {'style': 'Text_body',\n",
       "  'text': 'La administración pública es un gran usuario de características especiales, ya que tiene obligaciones especiales con el ciudadano, ya sea proporcionándole servicios accesibles, neutrales respecto a los fabricantes, ya garantizando la integridad, utilidad, privacidad y seguridad de sus datos a largo plazo. Todo ello la obliga a ser más respetuosa con los estándares que las empresas privadas y a mantener los datos en formatos abiertos y manipulados con software que no dependa de estrategia de empresas, generalmente extranjeras, certificado como seguro por auditoría interna. La adecuación a estándares es una característica notable del software libre que no es tan respetada por el software propietario, generalmente ávido de crear mercados cautivos.'},\n",
       " {'style': 'Text_body',\n",
       "  'text': 'Asimismo, la administración tiene una cierta función de escaparate y guía de la industria que la hace tener un gran impacto, que debería dirigirse a la creación de un tejido tecnológico generador de riqueza nacional. Ésta puede crearse fomentando empresas cuyo negocio sea, en parte, el desarrollo de nuevo software libre para la administración, o el mantenimiento, adaptación o auditoría del software existente. En el Capítulo 6 nos extendemos más en esta cuestión.'},\n",
       " {'style': 'Text_body',\n",
       "  'text': 'Para el desarrollador y productor de software, la libertad cambia mucho las reglas del juego. Con él le es más fácil competir siendo pequeño y adquirir tecnología punta. Puede aprovecharse del trabajo de los demás, compitiendo incluso con otro producto modificando su propio código, si bien también el competidor copiado se aprovechará de nuestro código (si es copyleft). Si el proyecto se lleva bien puede conseguirse la colaboración gratuita de mucha gente, y además se tiene acceso a un sistema de distribución prácticamente gratuito y global. No obstante queda pendiente el problema de cómo obtener recursos económicos si el software realizado no es fruto de un encargo pagado. En el Capítulo 5 se tratará con detalle este tema.'},\n",
       " {'style': 'Text_body',\n",
       "  'text': 'Para el integrador el software libre es el paraíso. No más cajas negras que intentar encajar, a menudo con ingeniería inversa. Puede limar asperezas e integrar trozos de programas para conseguir el producto integrado necesario, disponiendo de un acervo ingente de software libre de donde extraer las piezas.'},\n",
       " {'style': 'Text_body',\n",
       "  'text': 'El disponer del fuente lo cambia todo, situándonos casi en las mismas condiciones que el productor. Si no son las mismas es porque hace falta un conocimiento profundo del programa que sólo el desarrollador posee, por lo que es conveniente que el mantenedor participe en los proyectos que se dedica a mantener. El valor añadido de los servicios es mucho más apreciado, ya que el coste del programa es bajo. Éste es actualmente el negocio más claro con software libre y con el que es posible un mayor grado de competencia.'},\n",
       " {'style': 'Text_body',\n",
       "  'text': 'Este primer capítulo ha servido como toma de contacto con el mundo del software libre. El concepto fue definido por Richard Stallman basándose en cuatro libertades: de ejecución, de estudio, de redistribución y de mejora, dos de las cuales suponen el acceso al código fuente. Esta accesibilidad y sus ventajas motivan otro punto de vista menos ético y más pragmático, defendido por la Open Source Initiative, que ha dado lugar a otro término: software de fuente abierta. Se han comentado también otros términos relacionados por similitud o contraposición, y que permiten aclarar los conceptos. Finalmente se han comentado las consecuencias de la libertad del software para los principales actores implicados.'}]"
      ]
     },
     "execution_count": 6,
     "metadata": {},
     "output_type": "execute_result"
    }
   ],
   "source": [
    "ref.P"
   ]
  },
  {
   "cell_type": "code",
   "execution_count": 7,
   "metadata": {},
   "outputs": [
    {
     "data": {
      "text/plain": [
       "0"
      ]
     },
     "execution_count": 7,
     "metadata": {},
     "output_type": "execute_result"
    }
   ],
   "source": [
    "ref.emptyHeadings"
   ]
  },
  {
   "cell_type": "code",
   "execution_count": 8,
   "metadata": {},
   "outputs": [
    {
     "data": {
      "text/plain": [
       "0"
      ]
     },
     "execution_count": 8,
     "metadata": {},
     "output_type": "execute_result"
    }
   ],
   "source": [
    "ref.emptyPars"
   ]
  },
  {
   "cell_type": "code",
   "execution_count": 9,
   "metadata": {},
   "outputs": [
    {
     "data": {
      "text/plain": [
       "[{'name': 'P1', 'parent': 'List_1'},\n",
       " {'name': 'P2', 'parent': 'Numbering_1'},\n",
       " {'name': 'Standard', 'parent': None},\n",
       " {'name': 'Header', 'parent': 'Standard'},\n",
       " {'name': 'Text_body', 'parent': 'Standard'},\n",
       " {'name': 'List', 'parent': 'Text_body'},\n",
       " {'name': 'Caption', 'parent': 'Standard'},\n",
       " {'name': 'Index', 'parent': 'Standard'},\n",
       " {'name': 'Preformatted_Text', 'parent': 'Standard'},\n",
       " {'name': 'Heading', 'parent': 'Standard'},\n",
       " {'name': 'Heading_1', 'parent': 'Heading'},\n",
       " {'name': 'Heading_2', 'parent': 'Heading'},\n",
       " {'name': 'Heading_3', 'parent': 'Heading'},\n",
       " {'name': 'Quotations', 'parent': 'Standard'},\n",
       " {'name': 'Text', 'parent': 'Caption'},\n",
       " {'name': 'Numbering_1', 'parent': 'List'},\n",
       " {'name': 'List_1', 'parent': 'List'},\n",
       " {'name': 'Numbering_Symbols', 'parent': None},\n",
       " {'name': 'Bullet_Symbols', 'parent': None}]"
      ]
     },
     "execution_count": 9,
     "metadata": {},
     "output_type": "execute_result"
    }
   ],
   "source": [
    "ref.style"
   ]
  },
  {
   "cell_type": "code",
   "execution_count": null,
   "metadata": {},
   "outputs": [],
   "source": []
  }
 ],
 "metadata": {
  "kernelspec": {
   "display_name": "Python 3",
   "language": "python",
   "name": "python3"
  },
  "language_info": {
   "codemirror_mode": {
    "name": "ipython",
    "version": 3
   },
   "file_extension": ".py",
   "mimetype": "text/x-python",
   "name": "python",
   "nbconvert_exporter": "python",
   "pygments_lexer": "ipython3",
   "version": "3.5.2"
  }
 },
 "nbformat": 4,
 "nbformat_minor": 2
}
