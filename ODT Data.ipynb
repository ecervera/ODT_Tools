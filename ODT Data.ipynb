{
 "cells": [
  {
   "cell_type": "markdown",
   "metadata": {},
   "source": [
    "## Introducción\n",
    "\n",
    "Esto es una demo."
   ]
  },
  {
   "cell_type": "code",
   "execution_count": null,
   "metadata": {
    "collapsed": true
   },
   "outputs": [],
   "source": [
    "from odt_parse import OdtData\n",
    "from odt_diff import find_style_by_name"
   ]
  },
  {
   "cell_type": "code",
   "execution_count": null,
   "metadata": {
    "collapsed": false
   },
   "outputs": [],
   "source": [
    "ref = OdtData('libro_paginado.odt',\n",
    "#ref = OdtData('libro_personalizados.odt',\n",
    "#ref = OdtData('libro_predefinidos.odt',\n",
    "#ref = OdtData('libro_modificado.odt', \n",
    "              par_prop=['backgroundcolor', 'textalign', 'breakbefore',\n",
    "                        'margintop', 'marginbottom', 'marginleft', 'marginright'], \n",
    "              text_prop=['fontsize', 'fontstyle', 'language'])\n",
    "\n",
    "print('El documento \"%s\" tiene:' % ref.filename)\n",
    "print('\\t%3d títulos  de los cuales %d están vacíos' % (len(ref.H), ref.emptyHeadings))\n",
    "print('\\t%3d párrafos de los cuales %d están vacíos' % (len(ref.P), ref.emptyPars))\n",
    "print('\\t%3d estilos de párrafo de los cuales %d son de formato directo' % (len(ref.style['paragraph']), \n",
    "                                                                            ref.directFormat))"
   ]
  },
  {
   "cell_type": "code",
   "execution_count": null,
   "metadata": {
    "collapsed": false
   },
   "outputs": [],
   "source": [
    "import odf.style as style\n",
    "for st in ref.doc.getElementsByType(style.MasterPage):\n",
    "    print(st.getAttribute('name'))"
   ]
  },
  {
   "cell_type": "code",
   "execution_count": null,
   "metadata": {
    "collapsed": false
   },
   "outputs": [],
   "source": [
    "find_style_by_name(ref.style['paragraph'], 'Párrafo')"
   ]
  },
  {
   "cell_type": "code",
   "execution_count": null,
   "metadata": {
    "collapsed": false
   },
   "outputs": [],
   "source": [
    "find_style_by_name(ref.style['paragraph'], 'Heading_1')"
   ]
  },
  {
   "cell_type": "code",
   "execution_count": null,
   "metadata": {
    "collapsed": false
   },
   "outputs": [],
   "source": [
    "find_style_by_name(ref.style['paragraph'], 'Nota')"
   ]
  },
  {
   "cell_type": "code",
   "execution_count": null,
   "metadata": {
    "collapsed": false
   },
   "outputs": [],
   "source": [
    "find_style_by_name(ref.style['paragraph'], 'Cita_en_inglés')"
   ]
  },
  {
   "cell_type": "code",
   "execution_count": null,
   "metadata": {
    "collapsed": false
   },
   "outputs": [],
   "source": [
    "find_style_by_name(ref.style['paragraph'], 'Autor_de_cita')"
   ]
  },
  {
   "cell_type": "code",
   "execution_count": null,
   "metadata": {
    "collapsed": false
   },
   "outputs": [],
   "source": [
    "find_style_by_name(ref.style['paragraph'], 'Quotations')"
   ]
  },
  {
   "cell_type": "code",
   "execution_count": null,
   "metadata": {
    "collapsed": false
   },
   "outputs": [],
   "source": [
    "ref.meta"
   ]
  },
  {
   "cell_type": "code",
   "execution_count": null,
   "metadata": {
    "collapsed": false
   },
   "outputs": [],
   "source": [
    "ref.stat"
   ]
  },
  {
   "cell_type": "code",
   "execution_count": null,
   "metadata": {
    "collapsed": false
   },
   "outputs": [],
   "source": [
    "ref.style"
   ]
  },
  {
   "cell_type": "code",
   "execution_count": null,
   "metadata": {
    "collapsed": false
   },
   "outputs": [],
   "source": [
    "ref.H"
   ]
  },
  {
   "cell_type": "code",
   "execution_count": null,
   "metadata": {
    "collapsed": false
   },
   "outputs": [],
   "source": [
    "ref.P"
   ]
  },
  {
   "cell_type": "code",
   "execution_count": null,
   "metadata": {
    "collapsed": true
   },
   "outputs": [],
   "source": []
  }
 ],
 "metadata": {
  "kernelspec": {
   "display_name": "Python 3",
   "language": "python",
   "name": "python3"
  },
  "language_info": {
   "codemirror_mode": {
    "name": "ipython",
    "version": 3
   },
   "file_extension": ".py",
   "mimetype": "text/x-python",
   "name": "python",
   "nbconvert_exporter": "python",
   "pygments_lexer": "ipython3",
   "version": "3.5.2"
  }
 },
 "nbformat": 4,
 "nbformat_minor": 2
}
