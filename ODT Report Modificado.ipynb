{
 "cells": [
  {
   "cell_type": "code",
   "execution_count": null,
   "metadata": {},
   "outputs": [],
   "source": [
    "from odt_parse import OdtData\n",
    "from odt_diff import find_style_by_name"
   ]
  },
  {
   "cell_type": "code",
   "execution_count": null,
   "metadata": {
    "collapsed": true
   },
   "outputs": [],
   "source": [
    "import csv, glob, zipfile"
   ]
  },
  {
   "cell_type": "code",
   "execution_count": null,
   "metadata": {
    "collapsed": true
   },
   "outputs": [],
   "source": [
    "HOME_FOLDER = '../'\n",
    "SUBMISSION_FOLDER = HOME_FOLDER + 'PS1002-2-20172018-Document libro modificado.odt, grups de dijous-3219490'\n",
    "user_folder = glob.glob(SUBMISSION_FOLDER + '/*')"
   ]
  },
  {
   "cell_type": "code",
   "execution_count": null,
   "metadata": {},
   "outputs": [],
   "source": [
    "ref_name = 'libro_modificado.odt'\n",
    "par_prop = ['backgroundcolor', 'textalign', 'marginleft', 'marginright', 'margintop', 'marginbottom']\n",
    "text_prop = ['fontsize', 'fontstyle']\n",
    "ref = OdtData(ref_name, par_prop, text_prop)"
   ]
  },
  {
   "cell_type": "code",
   "execution_count": null,
   "metadata": {
    "collapsed": true
   },
   "outputs": [],
   "source": [
    "errors = []\n",
    "sp_dict = {'Heading':'Título', 'backgroundcolor':'color de fondo', 'textalign':'alineación', \n",
    "           'Quotations':'Cita', 'fontsize':'tamaño de letra', 'fontstyle':'efecto tipográfico', \n",
    "           'marginleft':'sangría izquierda', 'marginright':'sangría derecha', \n",
    "           'margintop':'espacio superior', 'marginbottom':'espacio inferior'}\n",
    "def compare_style_attr(ref, doc, family, style_name, attr_list):\n",
    "    stref = find_style_by_name(ref.style[family], style_name)\n",
    "    stdoc = find_style_by_name(doc.style[family], style_name)\n",
    "    for attr in attr_list:\n",
    "        try:\n",
    "            val_ref = stref[attr]\n",
    "            try:\n",
    "                val_doc = stdoc[attr]\n",
    "                if val_ref != val_doc:\n",
    "                    f.write('Estilo %s tiene %s \\n  %s en lugar de %s.\\n\\n' % (sp_dict[style_name], sp_dict[attr],\n",
    "                                                                                 val_doc, val_ref))\n",
    "            except KeyError:\n",
    "                    f.write('Estilo %s no tiene %s definido.\\n\\n' % (sp_dict[style_name], sp_dict[attr]))\n",
    "            except TypeError:\n",
    "                    f.write('Estilo %s no está definido.\\n\\n' % (sp_dict[style_name]))\n",
    "        except KeyError:\n",
    "            err = style_name + \"_\" + attr\n",
    "            if not err in errors:\n",
    "                errors.append(err)\n",
    "                print('Estilo %s no tiene %s definido en el fichero de referencia.' % (style_name, attr))"
   ]
  },
  {
   "cell_type": "code",
   "execution_count": null,
   "metadata": {
    "collapsed": true
   },
   "outputs": [],
   "source": [
    "def compare_style_attrs():\n",
    "    compare_style_attr(ref, doc, 'paragraph', 'Heading', \n",
    "                       ['backgroundcolor', 'textalign'])\n",
    "    compare_style_attr(ref, doc, 'paragraph', 'Quotations', \n",
    "                       ['fontsize', 'fontstyle', 'textalign', 'marginleft', 'marginright', 'margintop', 'marginbottom'])"
   ]
  },
  {
   "cell_type": "code",
   "execution_count": null,
   "metadata": {},
   "outputs": [],
   "source": [
    "with open(SUBMISSION_FOLDER + '.txt', 'w', encoding='utf-8') as f:\n",
    "    counter = 0\n",
    "    for ufo in user_folder:\n",
    "        user_files = glob.glob(ufo + '/*')\n",
    "        for ufi in user_files:\n",
    "            tokens = ufi.split('/')\n",
    "            filename = tokens[-1]\n",
    "            user_data = tokens[-2]\n",
    "            user_name, user_id, _, submission_type, _ = user_data.split('_')\n",
    "            fns = filename.split('.')\n",
    "            if len(fns) > 1:\n",
    "                extension = fns[-1]\n",
    "            else:\n",
    "                extension = ''\n",
    "            row = [user_name, user_id, submission_type, filename, extension]\n",
    "            f.write(user_name + '\\n' + '-'*len(user_name) + '\\n')\n",
    "            if filename != ref_name:\n",
    "                f.write('\\nNombre de fichero: %s\\n\\n' % filename)\n",
    "            if extension == 'odt':\n",
    "                doc = OdtData( ufi, par_prop, text_prop )\n",
    "                if doc.err:\n",
    "                    f.write('Error de lectura de fichero\\n')                   \n",
    "                else:\n",
    "                    compare_style_attrs()      \n",
    "            else:\n",
    "                f.write('Extensión de fichero incorrecta\\n')\n",
    "            f.write('\\n' + '#'*40 + '\\n\\n')\n",
    "            counter += 1\n",
    "    print('%d ficheros procesados.' % counter)"
   ]
  },
  {
   "cell_type": "code",
   "execution_count": null,
   "metadata": {
    "collapsed": true
   },
   "outputs": [],
   "source": []
  }
 ],
 "metadata": {
  "kernelspec": {
   "display_name": "Python 3",
   "language": "python",
   "name": "python3"
  },
  "language_info": {
   "codemirror_mode": {
    "name": "ipython",
    "version": 3
   },
   "file_extension": ".py",
   "mimetype": "text/x-python",
   "name": "python",
   "nbconvert_exporter": "python",
   "pygments_lexer": "ipython3",
   "version": "3.6.1"
  }
 },
 "nbformat": 4,
 "nbformat_minor": 2
}
