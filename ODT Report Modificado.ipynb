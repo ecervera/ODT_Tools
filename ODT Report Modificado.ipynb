{
 "cells": [
  {
   "cell_type": "code",
   "execution_count": null,
   "metadata": {
    "collapsed": false
   },
   "outputs": [],
   "source": [
    "from odt_parse import OdtData\n",
    "#from odt_diff import odt_compare\n",
    "from odt_diff import find_style_by_name"
   ]
  },
  {
   "cell_type": "code",
   "execution_count": null,
   "metadata": {
    "collapsed": true
   },
   "outputs": [],
   "source": [
    "import csv, glob, zipfile"
   ]
  },
  {
   "cell_type": "code",
   "execution_count": null,
   "metadata": {
    "collapsed": true
   },
   "outputs": [],
   "source": [
    "HOME_FOLDER = '../'\n",
    "SUBMISSION_FOLDER = HOME_FOLDER + 'PS1002-2-20172018-Document libro modificado.odt, grups de dijous-3219490'\n",
    "user_folder = glob.glob(SUBMISSION_FOLDER + '/*')"
   ]
  },
  {
   "cell_type": "code",
   "execution_count": null,
   "metadata": {
    "collapsed": false
   },
   "outputs": [],
   "source": [
    "ref_name = 'libro_modificado.odt'\n",
    "ref = OdtData(ref_name, par_prop=['backgroundcolor'], text_prop=['fontsize'])\n",
    "\n",
    "href = find_style_by_name(ref.style['paragraph'], 'Heading')\n",
    "bcolor_ref = href['backgroundcolor']\n",
    "\n",
    "qref = find_style_by_name(ref.style['paragraph'], 'Quotations')\n",
    "fsize_ref = qref['fontsize']"
   ]
  },
  {
   "cell_type": "code",
   "execution_count": null,
   "metadata": {
    "collapsed": false
   },
   "outputs": [],
   "source": [
    "with open(SUBMISSION_FOLDER + '.txt', 'w') as f:\n",
    "    counter = 0\n",
    "    for ufo in user_folder:\n",
    "        user_files = glob.glob(ufo + '/*')\n",
    "        for ufi in user_files:\n",
    "            tokens = ufi.split('/')\n",
    "            filename = tokens[-1]\n",
    "            user_data = tokens[-2]\n",
    "            user_name, user_id, _, submission_type, _ = user_data.split('_')\n",
    "            fns = filename.split('.')\n",
    "            if len(fns) > 1:\n",
    "                extension = fns[-1]\n",
    "            else:\n",
    "                extension = ''\n",
    "            row = [user_name, user_id, submission_type, filename, extension]\n",
    "            f.write(user_name + '\\n' + '-'*len(user_name) + '\\n')\n",
    "            if filename != ref_name:\n",
    "                f.write('\\nNombre de fichero: %s\\n' % filename)\n",
    "            if extension == 'odt':\n",
    "                doc = OdtData( ufi, par_prop=['backgroundcolor'], text_prop=['fontsize'] )\n",
    "                if doc.err:\n",
    "                    f.write('Error de lectura de fichero\\n')                   \n",
    "                else:\n",
    "                    \n",
    "                    st_name = 'Heading'\n",
    "                    st_attr = 'backgroundcolor'\n",
    "                    hdoc = find_style_by_name(doc.style['paragraph'], st_name)\n",
    "                    try:\n",
    "                        bcolor_doc = hdoc[st_attr]\n",
    "                        if bcolor_doc != bcolor_ref:\n",
    "                            f.write('\\nEstilo %s tiene %s \\n  %s en lugar de %s.\\n\\n' % (st_name, st_attr,\n",
    "                                                                                      bcolor_doc, bcolor_ref))\n",
    "                    except KeyError:\n",
    "                        f.write('\\nEstilo %s no tiene %s definido.\\n\\n' % (st_name, st_attr))\n",
    "                    except TypeError:\n",
    "                        f.write('\\nEstilo %s no está definido.\\n\\n' % (st_name))        \n",
    "                        \n",
    "                    st_name = 'Quotations'\n",
    "                    st_attr = 'fontsize'\n",
    "                    qdoc = find_style_by_name(doc.style['paragraph'], st_name)\n",
    "                    try:\n",
    "                        fsize_doc = qdoc[st_attr]\n",
    "                        if fsize_doc != fsize_ref:\n",
    "                            f.write('\\nEstilo %s tiene %s \\n  %s en lugar de %s.\\n\\n' % (st_name, st_attr,\n",
    "                                                                                      fsize_doc, fsize_ref))\n",
    "                    except KeyError:\n",
    "                        f.write('\\nEstilo %s no tiene %s definido.\\n\\n' % (st_name, st_attr))\n",
    "                    except TypeError:\n",
    "                        f.write('\\nEstilo %s no está definido.\\n\\n' % (st_name))        \n",
    "                        \n",
    "            else:\n",
    "                f.write('Extensión de fichero incorrecta\\n')\n",
    "            f.write('\\n' + '#'*40 + '\\n\\n')\n",
    "            counter += 1\n",
    "    print('%d ficheros procesados.' % counter)"
   ]
  },
  {
   "cell_type": "code",
   "execution_count": null,
   "metadata": {
    "collapsed": true
   },
   "outputs": [],
   "source": []
  }
 ],
 "metadata": {
  "kernelspec": {
   "display_name": "Python 3",
   "language": "python",
   "name": "python3"
  },
  "language_info": {
   "codemirror_mode": {
    "name": "ipython",
    "version": 3
   },
   "file_extension": ".py",
   "mimetype": "text/x-python",
   "name": "python",
   "nbconvert_exporter": "python",
   "pygments_lexer": "ipython3",
   "version": "3.5.2"
  }
 },
 "nbformat": 4,
 "nbformat_minor": 2
}
